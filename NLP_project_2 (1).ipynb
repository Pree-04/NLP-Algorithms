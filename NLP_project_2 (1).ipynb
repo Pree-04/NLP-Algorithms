{
 "cells": [
  {
   "cell_type": "markdown",
   "metadata": {
    "id": "FN_biA0oZle4"
   },
   "source": [
    "##AI ML 'B'\n",
    "# **LANGUAGE DETECTION MODEL**\n",
    "\n",
    "# NLP MINI PROJECT BY\n",
    "\n",
    "PREETHA S (21BTRCL078)\n",
    "\n",
    "\n",
    "SNIGDHA V (21BTRCL102)"
   ]
  },
  {
   "cell_type": "code",
   "execution_count": 1,
   "metadata": {
    "id": "r8scbh-yU6N7"
   },
   "outputs": [],
   "source": [
    "import pandas as pd\n",
    "from sklearn.feature_extraction.text import TfidfVectorizer\n",
    "from sklearn.model_selection import train_test_split\n",
    "from sklearn.naive_bayes import MultinomialNB\n",
    "from sklearn.metrics import accuracy_score"
   ]
  },
  {
   "cell_type": "code",
   "execution_count": 2,
   "metadata": {
    "colab": {
     "base_uri": "https://localhost:8080/"
    },
    "id": "-nRMt3R4VHqN",
    "outputId": "d1773966-d2e8-4767-b6d9-cc5e2f9ecc85"
   },
   "outputs": [
    {
     "name": "stdout",
     "output_type": "stream",
     "text": [
      "                                                Text Language\n",
      "0   Nature, in the broadest sense, is the natural...  English\n",
      "1  \"Nature\" can refer to the phenomena of the phy...  English\n",
      "2  The study of nature is a large, if not the onl...  English\n",
      "3  Although humans are part of nature, human acti...  English\n",
      "4  [1] The word nature is borrowed from the Old F...  English\n",
      "5  [2] In ancient philosophy, natura is mostly us...  English\n",
      "6  [3][4] \\nThe concept of nature as a whole, the...  English\n",
      "7  During the advent of modern scientific method ...  English\n",
      "8  [5][6] With the Industrial revolution, nature ...  English\n",
      "9  However, a vitalist vision of nature, closer t...  English\n"
     ]
    }
   ],
   "source": [
    "# Load dataset\n",
    "df = pd.read_csv(\"Language Detection.csv\")\n",
    "print(df.head(10))"
   ]
  },
  {
   "cell_type": "code",
   "execution_count": 3,
   "metadata": {
    "id": "pA6g0DJ_VIxK"
   },
   "outputs": [],
   "source": [
    "# Preprocessing\n",
    "# Assuming the text column is named 'text' and language column is named 'language'\n",
    "# You might need to adjust preprocessing based on your specific dataset\n",
    "df['Text'] = df['Text'].apply(lambda x: x.lower())"
   ]
  },
  {
   "cell_type": "code",
   "execution_count": 4,
   "metadata": {
    "id": "6nwpjb5CVIt0"
   },
   "outputs": [],
   "source": [
    "# Split dataset into train and test sets\n",
    "X_train, X_test, y_train, y_test = train_test_split(df['Text'], df['Language'], test_size=0.2, random_state=42)"
   ]
  },
  {
   "cell_type": "code",
   "execution_count": 5,
   "metadata": {
    "id": "QPjUat75VIqs"
   },
   "outputs": [],
   "source": [
    "# Feature extraction using TF-IDF\n",
    "tfidf_vectorizer = TfidfVectorizer()\n",
    "X_train_tfidf = tfidf_vectorizer.fit_transform(X_train)\n",
    "X_test_tfidf = tfidf_vectorizer.transform(X_test)"
   ]
  },
  {
   "cell_type": "code",
   "execution_count": 6,
   "metadata": {
    "colab": {
     "base_uri": "https://localhost:8080/",
     "height": 74
    },
    "id": "lytUFMwhVIoh",
    "outputId": "50766ce4-75c0-4a81-ab1c-03b95b7d57ba"
   },
   "outputs": [
    {
     "data": {
      "text/plain": [
       "MultinomialNB()"
      ]
     },
     "execution_count": 6,
     "metadata": {},
     "output_type": "execute_result"
    }
   ],
   "source": [
    "# Model training\n",
    "model = MultinomialNB()\n",
    "model.fit(X_train_tfidf, y_train)\n"
   ]
  },
  {
   "cell_type": "code",
   "execution_count": 7,
   "metadata": {
    "colab": {
     "base_uri": "https://localhost:8080/"
    },
    "id": "EAIlPW20VImC",
    "outputId": "6c0f1b5c-7ad7-4356-ad67-aaa72058bf99"
   },
   "outputs": [
    {
     "name": "stdout",
     "output_type": "stream",
     "text": [
      "Accuracy: 0.9579303675048356\n"
     ]
    }
   ],
   "source": [
    "# Evaluation\n",
    "y_pred = model.predict(X_test_tfidf)\n",
    "accuracy = accuracy_score(y_test, y_pred)\n",
    "print(\"Accuracy:\", accuracy)"
   ]
  },
  {
   "cell_type": "code",
   "execution_count": 8,
   "metadata": {
    "id": "lIwTbOmeVIj5"
   },
   "outputs": [],
   "source": [
    "# Inference function\n",
    "def detect_language(text):\n",
    "    text = text.lower()\n",
    "    text_tfidf = tfidf_vectorizer.transform([text])\n",
    "    predicted_language = model.predict(text_tfidf)[0]\n",
    "    print(\"Text is:\", text)\n",
    "    print(\"Detected language is:\", predicted_language)"
   ]
  },
  {
   "cell_type": "code",
   "execution_count": 9,
   "metadata": {
    "id": "OARQPTRGVpmc"
   },
   "outputs": [],
   "source": [
    "# Example usage\n",
    "#French\n",
    "#Bonjour, comment ça va?\n",
    "#Tamil\n",
    "#மழை பெய்யும் போது, மண் உறியும். நீர் நிரம்பும் கட்டில் வெள்ளம் நிறைந்து விளையும்.\n",
    "#malayalam\n",
    "#ഞാൻ സൌഹൃദം പൂർണ്ണമായും വാക്കുകൾക്ക് നിരവധി അർത്ഥങ്ങൾ നൽകും ഒരു വ്യക്തിയാണ്.\n",
    "#Spanish\n",
    "#El sol brilla en el cielo azul y las aves cantan en los árboles. Es un día hermoso para dar un paseo por el parque y disfrutar de la naturaleza.\n",
    "#kannada\n",
    "#ಹಾರು ಬರುತ್ತಿದೆ ಸುಗಂಧ ಮೋಡಗಳು ತರುತ್ತಿದೆ ಮಳೆಗೆ ಹೇಗೆ ಕುಳಿತು ಕಾಯುತ್ತಿರುತ್ತೀರಿ?\n",
    "#Arabic\n",
    "#نا أحب الطبيعة الجميلة والهواء النقي. في الصباح الباكر، أستمتع بالسير في الحديقة والاستماع إلى غناء الطيور\n",
    "#italian\n",
    "#Il sole splende nel cielo azzurro e il profumo dei fiori riempie l'aria. È una giornata perfetta per una passeggiata nel parco e godersi la bellezza della natura.\n",
    "#russian\n",
    "#\"Весна пришла, и с ней пришли первые лучи солнца и пение птиц. В такие моменты хочется просто выйти на улицу и насладиться всей этой красотой."
   ]
  },
  {
   "cell_type": "code",
   "execution_count": 10,
   "metadata": {
    "colab": {
     "base_uri": "https://localhost:8080/"
    },
    "id": "Y-LhzmZkVsNz",
    "outputId": "9052c505-2d5c-42a8-ee09-c4dc14529c36"
   },
   "outputs": [
    {
     "name": "stdout",
     "output_type": "stream",
     "text": [
      "Text is: весна пришла, и с ней пришли первые лучи солнца и пение птиц. в такие моменты хочется просто выйти на улицу и насладиться всей этой красотой.\n",
      "Detected language is: Russian\n"
     ]
    }
   ],
   "source": [
    "input_text = \"Весна пришла, и с ней пришли первые лучи солнца и пение птиц. В такие моменты хочется просто выйти на улицу и насладиться всей этой красотой.\"\n",
    "detect_language(input_text)"
   ]
  },
  {
   "cell_type": "code",
   "execution_count": 11,
   "metadata": {
    "colab": {
     "base_uri": "https://localhost:8080/"
    },
    "id": "KX_28gr4X03o",
    "outputId": "3cafd579-2ecf-4b68-8136-0a914f35ec2d"
   },
   "outputs": [
    {
     "name": "stdout",
     "output_type": "stream",
     "text": [
      "Requirement already satisfied: flask in c:\\users\\preet\\anaconda3\\lib\\site-packages (1.1.2)\n",
      "Requirement already satisfied: itsdangerous>=0.24 in c:\\users\\preet\\anaconda3\\lib\\site-packages (from flask) (2.0.1)\n",
      "Requirement already satisfied: Jinja2>=2.10.1 in c:\\users\\preet\\anaconda3\\lib\\site-packages (from flask) (2.11.3)\n",
      "Requirement already satisfied: Werkzeug>=0.15 in c:\\users\\preet\\anaconda3\\lib\\site-packages (from flask) (2.0.3)\n",
      "Requirement already satisfied: click>=5.1 in c:\\users\\preet\\anaconda3\\lib\\site-packages (from flask) (8.0.4)\n",
      "Requirement already satisfied: colorama in c:\\users\\preet\\anaconda3\\lib\\site-packages (from click>=5.1->flask) (0.4.5)\n",
      "Requirement already satisfied: MarkupSafe>=0.23 in c:\\users\\preet\\anaconda3\\lib\\site-packages (from Jinja2>=2.10.1->flask) (2.0.1)\n"
     ]
    }
   ],
   "source": [
    "!pip install flask"
   ]
  },
  {
   "cell_type": "code",
   "execution_count": 27,
   "metadata": {
    "id": "TbpjAJkPbh6n"
   },
   "outputs": [],
   "source": [
    "from flask import Flask, render_template, request\n",
    "import pandas as pd\n",
    "from sklearn.feature_extraction.text import TfidfVectorizer\n",
    "from sklearn.naive_bayes import MultinomialNB"
   ]
  },
  {
   "cell_type": "code",
   "execution_count": 28,
   "metadata": {
    "id": "TZEm7Ym-blpJ"
   },
   "outputs": [],
   "source": [
    "app = Flask(__name__)"
   ]
  },
  {
   "cell_type": "code",
   "execution_count": 29,
   "metadata": {
    "colab": {
     "base_uri": "https://localhost:8080/",
     "height": 74
    },
    "id": "q30wjo70bqVv",
    "outputId": "611b4ad2-1950-4c96-ec22-b29343e27635"
   },
   "outputs": [
    {
     "data": {
      "text/plain": [
       "MultinomialNB()"
      ]
     },
     "execution_count": 29,
     "metadata": {},
     "output_type": "execute_result"
    }
   ],
   "source": [
    "# Load dataset and train model\n",
    "df = pd.read_csv(\"Language Detection.csv\")\n",
    "df['Text'] = df['Text'].apply(lambda x: x.lower())\n",
    "tfidf_vectorizer = TfidfVectorizer()\n",
    "X_train_tfidf = tfidf_vectorizer.fit_transform(df['Text'])\n",
    "y_train = df['Language']\n",
    "model = MultinomialNB()\n",
    "model.fit(X_train_tfidf, y_train)"
   ]
  },
  {
   "cell_type": "code",
   "execution_count": 30,
   "metadata": {
    "id": "O6Byx4eFb0C_"
   },
   "outputs": [],
   "source": [
    "# Language detection function\n",
    "def detect_language(text):\n",
    "    text = text.lower()\n",
    "    text_tfidf = tfidf_vectorizer.transform([text])\n",
    "    predicted_language = model.predict(text_tfidf)[0]\n",
    "    return predicted_language"
   ]
  },
  {
   "cell_type": "code",
   "execution_count": 31,
   "metadata": {
    "id": "L8uz0I8Tb2Nh"
   },
   "outputs": [],
   "source": [
    "# Route for homepage\n",
    "@app.route('/')\n",
    "def home():\n",
    "    return render_template('index.html')"
   ]
  },
  {
   "cell_type": "code",
   "execution_count": 32,
   "metadata": {
    "id": "8Ag0J8tEb-Ak"
   },
   "outputs": [],
   "source": [
    "# Route to handle form submission\n",
    "@app.route('/detect_language', methods=['POST'])\n",
    "def detect():\n",
    "    if request.method == 'POST':\n",
    "        input_text = request.form['text']\n",
    "        detected_language = detect_language(input_text)\n",
    "        return render_template('result.html', input_text=input_text, detected_language=detected_language)"
   ]
  },
  {
   "cell_type": "code",
   "execution_count": 33,
   "metadata": {
    "colab": {
     "base_uri": "https://localhost:8080/"
    },
    "id": "0vg3SLN8cAnt",
    "outputId": "f1ec9c8c-e951-4af5-d054-2410beac8096"
   },
   "outputs": [
    {
     "name": "stdout",
     "output_type": "stream",
     "text": [
      " * Serving Flask app \"__main__\" (lazy loading)\n",
      " * Environment: production\n",
      "\u001b[31m   WARNING: This is a development server. Do not use it in a production deployment.\u001b[0m\n",
      "\u001b[2m   Use a production WSGI server instead.\u001b[0m\n",
      " * Debug mode: on\n"
     ]
    },
    {
     "name": "stderr",
     "output_type": "stream",
     "text": [
      " * Restarting with watchdog (windowsapi)\n"
     ]
    },
    {
     "ename": "SystemExit",
     "evalue": "1",
     "output_type": "error",
     "traceback": [
      "An exception has occurred, use %tb to see the full traceback.\n",
      "\u001b[1;31mSystemExit\u001b[0m\u001b[1;31m:\u001b[0m 1\n"
     ]
    },
    {
     "name": "stderr",
     "output_type": "stream",
     "text": [
      "C:\\Users\\preet\\anaconda3\\lib\\site-packages\\IPython\\core\\interactiveshell.py:3465: UserWarning: To exit: use 'exit', 'quit', or Ctrl-D.\n",
      "  warn(\"To exit: use 'exit', 'quit', or Ctrl-D.\", stacklevel=1)\n"
     ]
    }
   ],
   "source": [
    "if __name__ == '__main__':\n",
    "    app.run(debug=True)"
   ]
  },
  {
   "cell_type": "code",
   "execution_count": null,
   "metadata": {
    "id": "VxMbQP4YcDU0"
   },
   "outputs": [],
   "source": []
  },
  {
   "cell_type": "code",
   "execution_count": null,
   "metadata": {},
   "outputs": [],
   "source": []
  },
  {
   "cell_type": "code",
   "execution_count": null,
   "metadata": {},
   "outputs": [],
   "source": []
  }
 ],
 "metadata": {
  "colab": {
   "provenance": []
  },
  "kernelspec": {
   "display_name": "Python 3 (ipykernel)",
   "language": "python",
   "name": "python3"
  },
  "language_info": {
   "codemirror_mode": {
    "name": "ipython",
    "version": 3
   },
   "file_extension": ".py",
   "mimetype": "text/x-python",
   "name": "python",
   "nbconvert_exporter": "python",
   "pygments_lexer": "ipython3",
   "version": "3.9.13"
  }
 },
 "nbformat": 4,
 "nbformat_minor": 1
}
