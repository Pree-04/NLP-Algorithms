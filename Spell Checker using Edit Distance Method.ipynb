{
 "cells": [
  {
   "cell_type": "code",
   "execution_count": 1,
   "id": "5c0ee17d",
   "metadata": {},
   "outputs": [],
   "source": [
    "import nltk\n",
    "from nltk.corpus import words\n",
    "from nltk.metrics.distance import edit_distance"
   ]
  },
  {
   "cell_type": "code",
   "execution_count": 2,
   "id": "cdf8ddcd",
   "metadata": {},
   "outputs": [
    {
     "name": "stderr",
     "output_type": "stream",
     "text": [
      "[nltk_data] Downloading package words to\n",
      "[nltk_data]     C:\\Users\\preet\\AppData\\Roaming\\nltk_data...\n",
      "[nltk_data]   Unzipping corpora\\words.zip.\n"
     ]
    }
   ],
   "source": [
    "nltk.download('words')\n",
    "\n",
    "# Load English words from NLTK corpus\n",
    "word_list = words.words()"
   ]
  },
  {
   "cell_type": "code",
   "execution_count": 7,
   "id": "7a06d946",
   "metadata": {},
   "outputs": [],
   "source": [
    "def spell_check(word):\n",
    "    # Initialize minimum distance and closest word\n",
    "    min_distance = float('inf')\n",
    "    closest_word = None\n",
    "    \n",
    "    # Iterate through the list of English words\n",
    "    for valid_word in word_list:\n",
    "        # Calculate the edit distance between the input word and each valid word\n",
    "        distance = edit_distance(word, valid_word)\n",
    "        \n",
    "        # If the edit distance is less than the minimum distance found so far,\n",
    "        # update the minimum distance and closest word\n",
    "        if distance < min_distance:\n",
    "            min_distance = distance\n",
    "            closest_word = valid_word\n",
    "    \n",
    "    return closest_word"
   ]
  },
  {
   "cell_type": "code",
   "execution_count": 8,
   "id": "5d11b6a8",
   "metadata": {},
   "outputs": [
    {
     "name": "stdout",
     "output_type": "stream",
     "text": [
      "Enter a word: Enginering\n"
     ]
    }
   ],
   "source": [
    "# Test the spell checker\n",
    "input_word = input(\"Enter a word: \").lower()"
   ]
  },
  {
   "cell_type": "code",
   "execution_count": 9,
   "id": "428039d2",
   "metadata": {},
   "outputs": [
    {
     "name": "stdout",
     "output_type": "stream",
     "text": [
      "The word is misspelled. Did you mean 'engineering'?\n"
     ]
    }
   ],
   "source": [
    "# Check if the input word is in the list of English words\n",
    "if input_word in word_list:\n",
    "    print(\"The word is spelled correctly.\")\n",
    "else:\n",
    "    closest = spell_check(input_word)\n",
    "    print(f\"The word is misspelled. Did you mean '{closest}'?\")"
   ]
  },
  {
   "cell_type": "code",
   "execution_count": null,
   "id": "62821aa8",
   "metadata": {},
   "outputs": [],
   "source": []
  },
  {
   "cell_type": "code",
   "execution_count": null,
   "id": "fe5fd623",
   "metadata": {},
   "outputs": [],
   "source": []
  },
  {
   "cell_type": "code",
   "execution_count": null,
   "id": "b481c483",
   "metadata": {},
   "outputs": [],
   "source": []
  }
 ],
 "metadata": {
  "kernelspec": {
   "display_name": "Python 3 (ipykernel)",
   "language": "python",
   "name": "python3"
  },
  "language_info": {
   "codemirror_mode": {
    "name": "ipython",
    "version": 3
   },
   "file_extension": ".py",
   "mimetype": "text/x-python",
   "name": "python",
   "nbconvert_exporter": "python",
   "pygments_lexer": "ipython3",
   "version": "3.9.13"
  }
 },
 "nbformat": 4,
 "nbformat_minor": 5
}
