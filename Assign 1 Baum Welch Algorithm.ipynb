{
 "cells": [
  {
   "cell_type": "code",
   "execution_count": 1,
   "id": "6bf64778",
   "metadata": {},
   "outputs": [
    {
     "name": "stderr",
     "output_type": "stream",
     "text": [
      "MultinomialHMM has undergone major changes. The previous version was implementing a CategoricalHMM (a special case of MultinomialHMM). This new implementation follows the standard definition for a Multinomial distribution (e.g. as in https://en.wikipedia.org/wiki/Multinomial_distribution). See these issues for details:\n",
      "https://github.com/hmmlearn/hmmlearn/issues/335\n",
      "https://github.com/hmmlearn/hmmlearn/issues/340\n"
     ]
    },
    {
     "name": "stdout",
     "output_type": "stream",
     "text": [
      "Initial state distribution: [nan nan]\n",
      "Transition matrix: [[nan nan]\n",
      " [nan nan]]\n",
      "Emission probabilities: [[nan]\n",
      " [nan]]\n"
     ]
    }
   ],
   "source": [
    "from hmmlearn import hmm\n",
    "\n",
    "# Example training data\n",
    "X = [[0], [1], [0], [1], [0], [1]]\n",
    "\n",
    "# Initialize HMM model\n",
    "model = hmm.MultinomialHMM(n_components=2, n_iter=100)\n",
    "\n",
    "# Train the model\n",
    "model.fit(X)\n",
    "\n",
    "# Retrieve the trained parameters\n",
    "print(\"Initial state distribution:\", model.startprob_)\n",
    "print(\"Transition matrix:\", model.transmat_)\n",
    "print(\"Emission probabilities:\", model.emissionprob_)\n",
    "\n"
   ]
  },
  {
   "cell_type": "code",
   "execution_count": null,
   "id": "b6f3a0a4",
   "metadata": {},
   "outputs": [],
   "source": []
  }
 ],
 "metadata": {
  "kernelspec": {
   "display_name": "Python 3 (ipykernel)",
   "language": "python",
   "name": "python3"
  },
  "language_info": {
   "codemirror_mode": {
    "name": "ipython",
    "version": 3
   },
   "file_extension": ".py",
   "mimetype": "text/x-python",
   "name": "python",
   "nbconvert_exporter": "python",
   "pygments_lexer": "ipython3",
   "version": "3.9.13"
  }
 },
 "nbformat": 4,
 "nbformat_minor": 5
}
