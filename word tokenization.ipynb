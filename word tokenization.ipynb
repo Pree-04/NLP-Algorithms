{
 "cells": [
  {
   "cell_type": "code",
   "execution_count": 1,
   "id": "7f19c528",
   "metadata": {},
   "outputs": [],
   "source": [
    "import nltk"
   ]
  },
  {
   "cell_type": "code",
   "execution_count": 5,
   "id": "ff64e57b",
   "metadata": {},
   "outputs": [
    {
     "name": "stderr",
     "output_type": "stream",
     "text": [
      "[nltk_data] Downloading package punkt to\n",
      "[nltk_data]     C:\\Users\\preet\\AppData\\Roaming\\nltk_data...\n",
      "[nltk_data]   Unzipping tokenizers\\punkt.zip.\n"
     ]
    },
    {
     "data": {
      "text/plain": [
       "True"
      ]
     },
     "execution_count": 5,
     "metadata": {},
     "output_type": "execute_result"
    }
   ],
   "source": [
    "from nltk import word_tokenize\n",
    "# Download the Punkt tokenizer model (if not already downloaded)\n",
    "nltk.download('punkt')"
   ]
  },
  {
   "cell_type": "code",
   "execution_count": 8,
   "id": "d5aae889",
   "metadata": {},
   "outputs": [],
   "source": [
    "text= \"Hello world! Python is one of the most powerful programming languages in the world.\""
   ]
  },
  {
   "cell_type": "code",
   "execution_count": 9,
   "id": "6f18e0ad",
   "metadata": {},
   "outputs": [],
   "source": [
    "tokenize1= word_tokenize(text)"
   ]
  },
  {
   "cell_type": "code",
   "execution_count": 10,
   "id": "39778494",
   "metadata": {},
   "outputs": [],
   "source": [
    "def tokenize_text(text):\n",
    "    # Use NLTK's word_tokenize function for word tokenization\n",
    "    tokens = word_tokenize(text)\n",
    "    return tokens"
   ]
  },
  {
   "cell_type": "code",
   "execution_count": 11,
   "id": "f572dce4",
   "metadata": {},
   "outputs": [],
   "source": [
    "tokenized_words = tokenize_text(text)"
   ]
  },
  {
   "cell_type": "code",
   "execution_count": 12,
   "id": "6f7377dc",
   "metadata": {},
   "outputs": [
    {
     "name": "stdout",
     "output_type": "stream",
     "text": [
      "Original Text: Hello world! Python is one of the most powerful programming languages in the world.\n",
      "Tokenized Words: ['Hello', 'world', '!', 'Python', 'is', 'one', 'of', 'the', 'most', 'powerful', 'programming', 'languages', 'in', 'the', 'world', '.']\n"
     ]
    }
   ],
   "source": [
    "print(\"Original Text:\", text)\n",
    "print(\"Tokenized Words:\", tokenized_words)"
   ]
  },
  {
   "cell_type": "code",
   "execution_count": null,
   "id": "f3133325",
   "metadata": {},
   "outputs": [],
   "source": []
  }
 ],
 "metadata": {
  "kernelspec": {
   "display_name": "Python 3 (ipykernel)",
   "language": "python",
   "name": "python3"
  },
  "language_info": {
   "codemirror_mode": {
    "name": "ipython",
    "version": 3
   },
   "file_extension": ".py",
   "mimetype": "text/x-python",
   "name": "python",
   "nbconvert_exporter": "python",
   "pygments_lexer": "ipython3",
   "version": "3.9.13"
  }
 },
 "nbformat": 4,
 "nbformat_minor": 5
}
