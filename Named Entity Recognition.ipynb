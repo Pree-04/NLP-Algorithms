{
 "cells": [
  {
   "cell_type": "code",
   "execution_count": 2,
   "id": "3072ce21",
   "metadata": {},
   "outputs": [
    {
     "ename": "SyntaxError",
     "evalue": "invalid syntax (3549257706.py, line 9)",
     "output_type": "error",
     "traceback": [
      "\u001b[1;36m  File \u001b[1;32m\"C:\\Users\\preet\\AppData\\Local\\Temp\\ipykernel_48120\\3549257706.py\"\u001b[1;36m, line \u001b[1;32m9\u001b[0m\n\u001b[1;33m    {'word': 'Microsoft', 'pos': 'NNP', 'prev_word': 'at', 'next_word': ''}\u001b[0m\n\u001b[1;37m    ^\u001b[0m\n\u001b[1;31mSyntaxError\u001b[0m\u001b[1;31m:\u001b[0m invalid syntax\n"
     ]
    }
   ],
   "source": [
    "from sklearn.svm import LinearSVC\n",
    "from sklearn.feature_extraction import DictVectorizer\n",
    "from sklearn.pipeline import Pipeline\n",
    "train_data = [\n",
    " {'word': 'John', 'pos': 'NNP', 'prev_word': '', 'next_word': 'Smith'},\n",
    " {'word': 'Smith', 'pos': 'NNP', 'prev_word': 'John', 'next_word': 'works'},\n",
    " {'word': 'works', 'pos': 'VBZ', 'prev_word': 'Smith', 'next_word': 'at'},\n",
    " {'word': 'at', 'pos': 'IN', 'prev_word': 'works', 'next_word': 'Microsoft'}\n",
    " {'word': 'Microsoft', 'pos': 'NNP', 'prev_word': 'at', 'next_word': ''}\n",
    "]\n",
    "# define IOB labels (list of strings)\n",
    "train_labels = ['B-PER', 'I-PER', 'O', 'B-ORG', 'I-ORG']\n",
    "# define feature extraction function\n",
    "def extract_features(doc, i):\n",
    " word = doc[i]['word']\n",
    " pos = doc[i]['pos']\n",
    " prev_word = doc[i-1]['word'] if i > 0 else ''\n",
    " next_word = doc[i+1]['word'] if i < len(doc)-1 else ''\n",
    " return {'word': word, 'pos': pos, 'prev_word': prev_word, 'next_word': next_word}\n",
    "# define pipeline\n",
    "pipeline = Pipeline([\n",
    " ('vectorizer', DictVectorizer(sparse=False)),\n",
    " ('classifier', LinearSVC())\n",
    "])\n",
    "# train pipeline on training data\n",
    "pipeline.fit([extract_features(train_data, i) for i in range(len(train_data))], train_labels)\n",
    "# define test data\n",
    "test_data = [\n",
    " {'word': 'Bill', 'pos': 'NNP', 'prev_word': '', 'next_word': 'Gates'},\n",
    " {'word': 'Gates', 'pos': 'NNP', 'prev_word': 'Bill', 'next_word': 'is'},\n",
    " {'word': 'is', 'pos': 'VBZ', 'prev_word': 'Gates', 'next_word': 'the'},\n",
    " {'word': 'the', 'pos': 'DT', 'prev_word': 'is', 'next_word': 'founder'},\n",
    " {'word': 'founder', 'pos': 'NN', 'prev_word': 'the', 'next_word': 'of'},\n",
    " {'word': 'Microsoft', 'pos': 'NNP', 'prev_word': 'of', 'next_word': ''}\n",
    "]\n",
    "# make predictions on test data\n",
    "predictions = pipeline.predict([extract_features(test_data, i) for i in range(len(test_data))])\n",
    "# print predictions\n",
    "predictions\n"
   ]
  },
  {
   "cell_type": "code",
   "execution_count": null,
   "id": "d7eeec8c",
   "metadata": {},
   "outputs": [],
   "source": []
  },
  {
   "cell_type": "code",
   "execution_count": null,
   "id": "1c010c7d",
   "metadata": {},
   "outputs": [],
   "source": []
  }
 ],
 "metadata": {
  "kernelspec": {
   "display_name": "Python 3 (ipykernel)",
   "language": "python",
   "name": "python3"
  },
  "language_info": {
   "codemirror_mode": {
    "name": "ipython",
    "version": 3
   },
   "file_extension": ".py",
   "mimetype": "text/x-python",
   "name": "python",
   "nbconvert_exporter": "python",
   "pygments_lexer": "ipython3",
   "version": "3.9.13"
  }
 },
 "nbformat": 4,
 "nbformat_minor": 5
}
