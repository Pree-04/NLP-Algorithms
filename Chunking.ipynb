{
 "cells": [
  {
   "cell_type": "code",
   "execution_count": 3,
   "id": "56958c1e",
   "metadata": {},
   "outputs": [],
   "source": [
    "from nltk import pos_tag\n",
    "from nltk import RegexpParser\n",
    "from nltk import pos_tag"
   ]
  },
  {
   "cell_type": "code",
   "execution_count": 4,
   "id": "36f78ba4",
   "metadata": {},
   "outputs": [
    {
     "name": "stdout",
     "output_type": "stream",
     "text": [
      "After Split: ['Jain', 'University', 'is', 'the', 'best', 'university', 'in', 'India']\n"
     ]
    }
   ],
   "source": [
    "from nltk import RegexpParser\n",
    "text =\"Jain University is the best university in India\".split()\n",
    "print(\"After Split:\",text)"
   ]
  },
  {
   "cell_type": "code",
   "execution_count": 5,
   "id": "3eb12b4a",
   "metadata": {},
   "outputs": [
    {
     "name": "stdout",
     "output_type": "stream",
     "text": [
      "After Token: [('Jain', 'NNP'), ('University', 'NNP'), ('is', 'VBZ'), ('the', 'DT'), ('best', 'JJS'), ('university', 'NN'), ('in', 'IN'), ('India', 'NNP')]\n"
     ]
    }
   ],
   "source": [
    "tokens_tag = pos_tag(text)\n",
    "print(\"After Token:\",tokens_tag)"
   ]
  },
  {
   "cell_type": "code",
   "execution_count": 6,
   "id": "05113de0",
   "metadata": {},
   "outputs": [
    {
     "name": "stdout",
     "output_type": "stream",
     "text": [
      "After Regex: chunk.RegexpParser with 1 stages:\n",
      "RegexpChunkParser with 1 rules:\n",
      "       <ChunkRule: '<NN.?>*<VBD.?>*<JJ.?>*<CC>?'>\n"
     ]
    }
   ],
   "source": [
    "patterns= \"\"\"mychunk:{<NN.?>*<VBD.?>*<JJ.?>*<CC>?}\"\"\"\n",
    "chunker = RegexpParser(patterns)\n",
    "print(\"After Regex:\",chunker)\n",
    "output = chunker.parse(tokens_tag)"
   ]
  },
  {
   "cell_type": "code",
   "execution_count": 13,
   "id": "efffcddc",
   "metadata": {},
   "outputs": [
    {
     "name": "stdout",
     "output_type": "stream",
     "text": [
      "After Chunking (S\n",
      "  (mychunk Jain/NNP University/NNP)\n",
      "  is/VBZ\n",
      "  the/DT\n",
      "  (mychunk best/JJS)\n",
      "  (mychunk university/NN)\n",
      "  in/IN\n",
      "  (mychunk India/NNP))\n",
      "After Split: ['Jain', 'University', 'is', 'the', 'best', 'university', 'in', 'India']\n"
     ]
    }
   ],
   "source": [
    "print(\"After Chunking\",output)\n",
    "print(\"After Split:\",text)"
   ]
  },
  {
   "cell_type": "code",
   "execution_count": 14,
   "id": "98473f63",
   "metadata": {},
   "outputs": [
    {
     "name": "stdout",
     "output_type": "stream",
     "text": [
      "After Token: [('Jain', 'NNP'), ('University', 'NNP'), ('is', 'VBZ'), ('the', 'DT'), ('best', 'JJS'), ('university', 'NN'), ('in', 'IN'), ('India', 'NNP')]\n"
     ]
    }
   ],
   "source": [
    "tokens_tag = pos_tag(text)\n",
    "print(\"After Token:\",tokens_tag)"
   ]
  },
  {
   "cell_type": "code",
   "execution_count": 15,
   "id": "b94152cc",
   "metadata": {},
   "outputs": [
    {
     "name": "stdout",
     "output_type": "stream",
     "text": [
      "After Regex: chunk.RegexpParser with 1 stages:\n",
      "RegexpChunkParser with 1 rules:\n",
      "       <ChunkRule: '<NN.?>*<VBD.?>*<JJ.?>*<CC>?'>\n",
      "After Chunking (S\n",
      "  (mychunk Jain/NNP University/NNP)\n",
      "  is/VBZ\n",
      "  the/DT\n",
      "  (mychunk best/JJS)\n",
      "  (mychunk university/NN)\n",
      "  in/IN\n",
      "  (mychunk India/NNP))\n"
     ]
    }
   ],
   "source": [
    "patterns= \"\"\"mychunk:{<NN.?>*<VBD.?>*<JJ.?>*<CC>?}\"\"\"\n",
    "chunker = RegexpParser(patterns)\n",
    "print(\"After Regex:\",chunker)\n",
    "output = chunker.parse(tokens_tag)\n",
    "print(\"After Chunking\",output)"
   ]
  },
  {
   "cell_type": "code",
   "execution_count": 18,
   "id": "ef9e307c",
   "metadata": {},
   "outputs": [
    {
     "data": {
      "text/plain": [
       "[('And', 'CC'),\n",
       " ('now', 'RB'),\n",
       " ('for', 'IN'),\n",
       " ('Everything', 'VBG'),\n",
       " ('completely', 'RB'),\n",
       " ('Same', 'JJ')]"
      ]
     },
     "execution_count": 18,
     "metadata": {},
     "output_type": "execute_result"
    }
   ],
   "source": [
    "import nltk\n",
    "\n",
    "\n",
    "text=nltk.word_tokenize(\"And now for Everything completely Same\")\n",
    "\n",
    "\n",
    "nltk.pos_tag(text)"
   ]
  },
  {
   "cell_type": "code",
   "execution_count": null,
   "id": "237ee48c",
   "metadata": {},
   "outputs": [],
   "source": []
  }
 ],
 "metadata": {
  "kernelspec": {
   "display_name": "Python 3 (ipykernel)",
   "language": "python",
   "name": "python3"
  },
  "language_info": {
   "codemirror_mode": {
    "name": "ipython",
    "version": 3
   },
   "file_extension": ".py",
   "mimetype": "text/x-python",
   "name": "python",
   "nbconvert_exporter": "python",
   "pygments_lexer": "ipython3",
   "version": "3.9.13"
  }
 },
 "nbformat": 4,
 "nbformat_minor": 5
}
